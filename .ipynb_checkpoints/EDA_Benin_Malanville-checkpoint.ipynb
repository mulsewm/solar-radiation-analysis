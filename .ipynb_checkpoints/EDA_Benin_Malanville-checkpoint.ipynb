{
 "cells": [
  {
   "cell_type": "code",
   "execution_count": null,
   "id": "c3b25fc1-2cae-4956-b29e-c033ade8b683",
   "metadata": {},
   "outputs": [],
   "source": [
    "# Importing_Libraries"
   ]
  },
  {
   "cell_type": "code",
   "execution_count": null,
   "id": "a9d0e52f-dbae-4244-a640-fc4c09109ee9",
   "metadata": {},
   "outputs": [],
   "source": [
    "import pandas as pd\n",
    "import numpy as np\n",
    "import matplotlib.pyplot as plt\n",
    "import seaborn as sns\n",
    "# Set plot styles\n",
    "sns.set(style=\"whitegrid\")\n"
   ]
  },
  {
   "cell_type": "code",
   "execution_count": null,
   "id": "e7ef6654-fd11-422c-8209-08dd48079c1d",
   "metadata": {},
   "outputs": [],
   "source": [
    "#Load_the_Dataset"
   ]
  },
  {
   "cell_type": "code",
   "execution_count": null,
   "id": "3e190f98-8e50-4a51-bff2-7a428dda2621",
   "metadata": {},
   "outputs": [],
   "source": [
    "# Load the dataset\n",
    "file_path = 'benin-malanville.csv'  # Update this if the file is in another directory\n",
    "df = pd.read_csv(file_path)\n",
    "\n",
    "# Preview the dataset\n",
    "print(\"First five rows of the dataset:\")\n",
    "display(df.head())\n",
    "\n",
    "# Check dataset information\n",
    "print(\"\\nDataset Information:\")\n",
    "print(df.info())\n"
   ]
  },
  {
   "cell_type": "code",
   "execution_count": null,
   "id": "f0a33d02-aa32-4080-85ec-c51527a970f1",
   "metadata": {},
   "outputs": [],
   "source": [
    "#Generate data summary"
   ]
  },
  {
   "cell_type": "code",
   "execution_count": null,
   "id": "a601d6b2-a704-48c4-8bda-331f188ea746",
   "metadata": {},
   "outputs": [],
   "source": [
    "# Summary statistics for numeric columns\n",
    "print(\"Summary Statistics:\")\n",
    "summary_stats = df.describe()\n",
    "display(summary_stats)\n"
   ]
  },
  {
   "cell_type": "code",
   "execution_count": null,
   "id": "c43e5bb3-602d-4cb1-a59c-ff103ed34e2a",
   "metadata": {},
   "outputs": [],
   "source": [
    "#Save statistics "
   ]
  },
  {
   "cell_type": "code",
   "execution_count": null,
   "id": "d77b70b7-ccbd-46fd-98aa-5590677ac4e0",
   "metadata": {},
   "outputs": [],
   "source": [
    "# Save statistics\n",
    "summary_stats.to_csv('summary_statistics.csv', index=True)\n",
    "print(\"Summary statistics saved to 'summary_statistics.csv'\")\n"
   ]
  },
  {
   "cell_type": "code",
   "execution_count": null,
   "id": "96dfe2c6-6264-45c4-8728-4a208135d9d5",
   "metadata": {},
   "outputs": [],
   "source": [
    "# Plot histograms for key columns\n",
    "columns_to_plot = ['GHI', 'DNI', 'DHI', 'Tamb']\n",
    "for col in columns_to_plot:\n",
    "    plt.figure(figsize=(8, 5))\n",
    "    df[col].hist(bins=30, color='skyblue', edgecolor='black')\n",
    "    plt.title(f'Distribution of {col}')\n",
    "    plt.xlabel(col)\n",
    "    plt.ylabel('Frequency')\n",
    "    plt.grid(False)\n",
    "    plt.show()\n"
   ]
  },
  {
   "cell_type": "code",
   "execution_count": null,
   "id": "42c3bfd6-0d89-4739-9d28-c80499993857",
   "metadata": {},
   "outputs": [],
   "source": [
    "#Check for Data Quality"
   ]
  },
  {
   "cell_type": "code",
   "execution_count": null,
   "id": "1096538f-c008-4687-8314-bdb5572b399b",
   "metadata": {},
   "outputs": [],
   "source": [
    "# Check for missing values\n",
    "print(\"Missing Values:\")\n",
    "missing_values = df.isnull().sum()\n",
    "display(missing_values)\n"
   ]
  },
  {
   "cell_type": "code",
   "execution_count": null,
   "id": "ca880973-d94a-4ae3-915f-585e2f76a4a7",
   "metadata": {},
   "outputs": [],
   "source": [
    "#Visualize Missing Values"
   ]
  },
  {
   "cell_type": "code",
   "execution_count": null,
   "id": "e16e1bf3-30ac-40a6-97b1-2ae5ac76886f",
   "metadata": {},
   "outputs": [],
   "source": [
    "# Check for missing values\n",
    "print(\"Missing Values:\")\n",
    "missing_values = df.isnull().sum()\n",
    "display(missing_values)\n"
   ]
  },
  {
   "cell_type": "code",
   "execution_count": null,
   "id": "b735507d-702b-4665-9ec4-07425ce5da97",
   "metadata": {},
   "outputs": [],
   "source": [
    "#Handle Missing Data"
   ]
  },
  {
   "cell_type": "code",
   "execution_count": null,
   "id": "0340a08d-afdf-4369-8551-e5b48ca9cc6d",
   "metadata": {},
   "outputs": [],
   "source": [
    "# Example: Fill missing values with column mean\n",
    "df.fillna(df.mean(), inplace=True)\n"
   ]
  },
  {
   "cell_type": "code",
   "execution_count": null,
   "id": "7ba64c06-ff04-45d6-bf8e-5737965262d2",
   "metadata": {},
   "outputs": [],
   "source": [
    "#Detect Outliers "
   ]
  },
  {
   "cell_type": "code",
   "execution_count": null,
   "id": "e1133ed2-3865-4455-965f-7ddc2578342e",
   "metadata": {},
   "outputs": [],
   "source": [
    "# Boxplots for numeric columns\n",
    "for col in columns_to_plot:\n",
    "    plt.figure(figsize=(8, 5))\n",
    "    sns.boxplot(data=df, x=col, color='lightcoral')\n",
    "    plt.title(f'Boxplot of {col}')\n",
    "    plt.show()\n"
   ]
  },
  {
   "cell_type": "code",
   "execution_count": null,
   "id": "21b5e001-1a7f-4606-a2ef-a06b72cae926",
   "metadata": {},
   "outputs": [],
   "source": [
    "#Time series analysis"
   ]
  },
  {
   "cell_type": "code",
   "execution_count": null,
   "id": "872b855c-976b-4233-894e-28486248cae5",
   "metadata": {},
   "outputs": [],
   "source": [
    "# Convert 'Timestamp' column to datetime\n",
    "df['Timestamp'] = pd.to_datetime(df['Timestamp'])\n"
   ]
  },
  {
   "cell_type": "code",
   "execution_count": null,
   "id": "d65e1180-5603-4e43-bbe4-c60e2935388f",
   "metadata": {},
   "outputs": [],
   "source": [
    "# Set the 'Timestamp' column as the index\n",
    "df.set_index('Timestamp', inplace=True)\n"
   ]
  },
  {
   "cell_type": "code",
   "execution_count": null,
   "id": "5fb7ee65-973e-4834-aed0-6d8eee4a69ed",
   "metadata": {},
   "outputs": [],
   "source": [
    "# Plot GHI, DNI, and Tamb over time\n",
    "df[['GHI', 'DNI', 'Tamb']].plot(figsize=(15, 7), title=\"Time Series of Solar Irradiance and Temperature\")\n",
    "plt.ylabel(\"Values\")\n",
    "plt.show()\n"
   ]
  },
  {
   "cell_type": "code",
   "execution_count": null,
   "id": "3ea6ec77-de64-4bfc-8120-33e61b487155",
   "metadata": {},
   "outputs": [],
   "source": [
    "#Correlation Analysis"
   ]
  },
  {
   "cell_type": "code",
   "execution_count": null,
   "id": "ad22edd7-9a3d-484d-974d-abdf442ecb31",
   "metadata": {},
   "outputs": [],
   "source": [
    "# Compute correlation matrix\n",
    "correlation_matrix = df.corr()\n",
    "print(\"Correlation Matrix:\")\n",
    "display(correlation_matrix)\n"
   ]
  },
  {
   "cell_type": "code",
   "execution_count": null,
   "id": "1abd328c-012b-440c-b7da-9351b5875edf",
   "metadata": {},
   "outputs": [],
   "source": [
    "#Visualize Correlations"
   ]
  },
  {
   "cell_type": "code",
   "execution_count": null,
   "id": "92428dc6-8615-453a-9b7b-47d639fe65b9",
   "metadata": {},
   "outputs": [],
   "source": [
    "# Heatmap for correlations\n",
    "plt.figure(figsize=(12, 8))\n",
    "sns.heatmap(correlation_matrix, annot=True, cmap='coolwarm', fmt='.2f')\n",
    "plt.title('Correlation Matrix Heatmap')\n",
    "plt.show()\n"
   ]
  },
  {
   "cell_type": "code",
   "execution_count": null,
   "id": "8f686bf3-15f0-4df4-9553-db70e9b82563",
   "metadata": {},
   "outputs": [],
   "source": [
    "#Data Cleaning"
   ]
  },
  {
   "cell_type": "code",
   "execution_count": null,
   "id": "1dd96656-c4c0-41f5-b5ee-4184566cb041",
   "metadata": {},
   "outputs": [],
   "source": [
    "# Remove negative values in GHI and DNI\n",
    "df = df[(df['GHI'] >= 0) & (df['DNI'] >= 0)]\n",
    "print(f\"Dataset cleaned. Remaining rows: {len(df)}\")\n"
   ]
  },
  {
   "cell_type": "code",
   "execution_count": null,
   "id": "eb7a03e5-1655-4a28-bdcb-0677a312561a",
   "metadata": {},
   "outputs": [],
   "source": [
    "# Plot distributions again\n",
    "for col in columns_to_plot:\n",
    "    plt.figure(figsize=(8, 5))\n",
    "    df[col].hist(bins=30, color='limegreen', edgecolor='black')\n",
    "    plt.title(f'Distribution of {col} After Cleaning')\n",
    "    plt.xlabel(col)\n",
    "    plt.ylabel('Frequency')\n",
    "    plt.grid(False)\n",
    "    plt.show()\n"
   ]
  },
  {
   "cell_type": "code",
   "execution_count": null,
   "id": "9c61a1ec-a3af-40d8-bd75-0f9704e5fa1d",
   "metadata": {},
   "outputs": [],
   "source": [
    "#Save the cleaned Data"
   ]
  },
  {
   "cell_type": "code",
   "execution_count": null,
   "id": "f2bcd667-9f4a-456d-a31e-f31477dcc720",
   "metadata": {},
   "outputs": [],
   "source": [
    "cleaned_file_path = 'benin-malanville-cleaned.csv'\n",
    "df.to_csv(cleaned_file_path, index=True)\n",
    "print(f\"Cleaned dataset saved to {cleaned_file_path}\")\n"
   ]
  }
 ],
 "metadata": {
  "kernelspec": {
   "display_name": "Python 3 (ipykernel)",
   "language": "python",
   "name": "python3"
  },
  "language_info": {
   "codemirror_mode": {
    "name": "ipython",
    "version": 3
   },
   "file_extension": ".py",
   "mimetype": "text/x-python",
   "name": "python",
   "nbconvert_exporter": "python",
   "pygments_lexer": "ipython3",
   "version": "3.11.0"
  }
 },
 "nbformat": 4,
 "nbformat_minor": 5
}
